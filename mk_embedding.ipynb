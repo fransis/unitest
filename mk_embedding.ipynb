import os
import pandas as pd
import numpy as np
from tqdm.notebook import tqdm
from tqdm.notebook import tqdm
import torch
import torchvision.models as models
import torchvision.transforms as transforms
from PIL import Image

model_ft = models.resnet50(weights=models.ResNet50_Weights.IMAGENET1K_V2)
feature_extractor = torch.nn.Sequential(*list(model_ft.children())[:-1]).to('cuda')
transform = transforms.Compose([
                transforms.Resize((224, 224)),
                transforms.ToTensor(),
                transforms.Normalize(mean=[0.485, 0.456, 0.406], std=[0.228, 0.224, 0.225])])

base_path = 'D:/work/photo/data/'
zero_img = torch.zeros((3, 224, 224), dtype=torch.float32)
for i in tqdm(range(1000)):
    spath = base_path + 'thumb/{:03d}'.format(i)
    if not os.path.exists(spath):
        continue
    output_list = []
    for n in range(10):
        sidx = i*1000 + n*100
        img_list = []
        for j in range(sidx, sidx+100):
            fname = spath + '/{:06d}.jpg'.format(j)
            try:
                img = transform(Image.open(fname))
            except:
                img = zero_img
            img_list.append(img)
        x = torch.stack(img_list).to('cuda')
        output_list.append(feature_extractor(x).squeeze(3).squeeze(2).to('cpu'))
    output = torch.concat(output_list)
    torch.save(output,  base_path + 'embedding/{:03d}000.pt'.format(i))

