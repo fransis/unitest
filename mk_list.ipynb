import os
import pandas as pd
from tqdm.notebook import tqdm

base_path = 'D:/onedrive/Photo_backup/'

total_list = []
def findFiles(root):
    files = os.listdir(root)
    for file in files:
        path = os.path.join(root, file)
        if os.path.isdir(path):
            findFiles(path)
        else:
            path = path.replace('\\', '/').replace(base_path, '')
            if not path.lower().endswith('.aae'):
                total_list.append(path)


findFiles('D:/onedrive/Photo_backup')
df = pd.DataFrame(total_list, columns=['pathname'])

df['ext'] = ''
df['fsize'] = 0
df['multi'] = ''
df['fps'] = 0.0
df['duration'] = 0.0
df['thumb'] = ''
df['embedding'] = ''
df['action'] = ''

for idx in tqdm(df.index):
    pathname = base_path + df.loc[idx, 'pathname']
    df.loc[idx, 'ext'] = pathname.split('.')[-1].lower()
    df.loc[idx, 'fsize'] = os.stat(pathname).st_size

df.to_feather('./data/total_list.ftr')
df.to_feather('./data/total_list_org.ftr')
