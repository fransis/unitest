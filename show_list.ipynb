import pandas as pd
from tqdm.notebook import tqdm
from PIL import Image

import base64
import pandas as pd
from io import BytesIO
from IPython.display import HTML


def insert_image(df, size=(112, 112)):
    df = df.copy()
    df.insert(0, 'image', '')
    df['image'] = df.index
    df['image'] = df['image'].map(lambda i: get_thumbnail('D:/work/photo/data/thumb/{:03d}/{:06d}.jpg'.format(i//1000, i), size))
    return df
    
def get_thumbnail(path, size):
    try:
        img = Image.open(path).resize(size)
    except:
        img = Image.new('RGB', (0, 0))
    return img

def image_base64(im):
    if isinstance(im, str):
        im = get_thumbnail(im)
    with BytesIO() as buffer:
        im.save(buffer, 'jpeg')
        return base64.b64encode(buffer.getvalue()).decode()

def image_formatter(im):
    return f'<img src="data:image/jpeg;base64,{image_base64(im)}">'

def xshow(df, index=-1, count=0):
    df = df.drop(['pathname'], axis=1)
    if index > 0:
        df = df[df.index == index]
    elif count > 0:
        df = df.head(count)
    elif count < 0:
        df = df.tail(-count)
    display(HTML(df.to_html(formatters={'image': image_formatter}, escape=False)))


base_path = 'D:/onedrive/Photo_backup/'
df_total = pd.read_feather('./data/total_list.ftr')
df = df_total[df_total.index < 60].copy()
df = insert_image(df)

xshow(df, 50)



# new version
def xshow(df, index=-1, count=0, size=(56,56)):
    def image_formatter(idx):
        try:
            img = Image.open('D:/work/photo/data/thumb/{:03d}/{:06d}.jpg'.format(idx//1000, idx))
            img = img.resize(size)
        except:
            img = Image.new('RGB', (0, 0))
        with BytesIO() as buffer:
            img.save(buffer, 'jpeg')
            html = f'<img src="data:image/jpeg;base64,{base64.b64encode(buffer.getvalue()).decode()}">'
        return html

    if hasattr(index, "__iter__"):
        df = df.loc[index]
    elif index > 0:
        df = df[df.index == index]
    elif count > 0:
        df = df.head(count)
    elif count < 0:
        df = df.tail(-count)
    df = df[df['del'] != '*']
    df = df.drop(['thumb', 'embedding', 'del'], axis=1)
    df = df.copy()
    df.insert(0, 'image', df.index)
    display(HTML(df.to_html(formatters={'image': image_formatter}, escape=False)))

base_path = 'D:/onedrive/Photo_backup/'
df_total = pd.read_feather('./data/total_list.ftr')
xshow(df_total, count=-20)
